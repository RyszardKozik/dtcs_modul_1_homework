{
 "cells": [
  {
   "cell_type": "code",
   "execution_count": 9,
   "id": "9330f4b5-2fe3-4f30-a564-7b20cf31d91e",
   "metadata": {
    "editable": true,
    "slideshow": {
     "slide_type": ""
    },
    "tags": []
   },
   "outputs": [
    {
     "name": "stdout",
     "output_type": "stream",
     "text": [
      "1D array with the first 10 positive integers:\n",
      " [ 1  2  3  4  5  6  7  8  9 10]\n"
     ]
    }
   ],
   "source": [
    "import numpy as np\n",
    "\n",
    "# Task 1\n",
    "vector_1 = np.arange(1, 11)\n",
    "print(\"1D array with the first 10 positive integers:\\n\", vector_1)"
   ]
  },
  {
   "cell_type": "code",
   "execution_count": 10,
   "id": "56d2723e-830b-46c6-a4b6-8cb2aef26f29",
   "metadata": {},
   "outputs": [
    {
     "name": "stdout",
     "output_type": "stream",
     "text": [
      "3x3 matrix filled with zeros:\n",
      " [[0. 0. 0.]\n",
      " [0. 0. 0.]\n",
      " [0. 0. 0.]]\n"
     ]
    }
   ],
   "source": [
    "# Task 2\n",
    "matrix_3x3 = np.zeros((3,3))\n",
    "print(\"3x3 matrix filled with zeros:\\n\", matrix_3x3)"
   ]
  },
  {
   "cell_type": "code",
   "execution_count": 11,
   "id": "a516241e-a497-4153-83cb-f68b7df67c92",
   "metadata": {},
   "outputs": [
    {
     "name": "stdout",
     "output_type": "stream",
     "text": [
      "5x5 matrix filled with random integers from 1 to 10:\n",
      " [[ 2  3  8  1  6]\n",
      " [ 9  9  8  2 10]\n",
      " [ 9 10  2  4  7]\n",
      " [ 7  5  3  4  8]\n",
      " [ 4  8  7  7 10]]\n"
     ]
    }
   ],
   "source": [
    "# Task 3\n",
    "matrix_5x5 = np.random.randint(1, 11, size=(5, 5))\n",
    "print(\"5x5 matrix filled with random integers from 1 to 10:\\n\", matrix_5x5)"
   ]
  },
  {
   "cell_type": "code",
   "execution_count": 13,
   "id": "674d6081-bba5-4000-8b0a-00a0fb02d4e8",
   "metadata": {},
   "outputs": [
    {
     "name": "stdout",
     "output_type": "stream",
     "text": [
      "4x4 matrix filled with random floats between 0 and 1:\n",
      " [[0.27061125 0.61741509 0.24775334 0.20001968]\n",
      " [0.42471235 0.00890828 0.33504347 0.69915217]\n",
      " [0.79578417 0.54887639 0.74940651 0.44683839]\n",
      " [0.94954847 0.05368986 0.52237431 0.9512908 ]]\n"
     ]
    }
   ],
   "source": [
    "# Task 4\n",
    "matrix_4x4 = np.random.rand(4, 4)\n",
    "print(\"4x4 matrix filled with random floats between 0 and 1:\\n\", matrix_4x4)"
   ]
  },
  {
   "cell_type": "code",
   "execution_count": 21,
   "id": "771b9b4b-4a96-4568-bc38-9cc42cbdfc6e",
   "metadata": {},
   "outputs": [
    {
     "name": "stdout",
     "output_type": "stream",
     "text": [
      "Array 1:\n",
      " [10 10  5  3 10]\n",
      "Array 2:\n",
      " [5 4 5 7 6]\n",
      "Addition:\n",
      " [15 14 10 10 16]\n",
      "Subtraction:\n",
      " [ 5  6  0 -4  4]\n",
      "Multiplication:\n",
      " [50 40 25 21 60]\n"
     ]
    }
   ],
   "source": [
    "# Task 5\n",
    "array_1 = np.random.randint(1, 11, size=5)\n",
    "array_2 = np.random.randint(1, 11, size=5)\n",
    "\n",
    "addition = array_1 + array_2\n",
    "subtraction = array_1 - array_2\n",
    "multiplication = array_1 * array_2\n",
    "\n",
    "print(\"Array 1:\\n\", array_1)\n",
    "print(\"Array 2:\\n\", array_2)\n",
    "print(\"Addition:\\n\", addition)\n",
    "print(\"Subtraction:\\n\", subtraction)\n",
    "print(\"Multiplication:\\n\", multiplication)\n",
    "      "
   ]
  },
  {
   "cell_type": "code",
   "execution_count": 24,
   "id": "9ba28f8d-25bf-41d5-a994-29d89875832e",
   "metadata": {},
   "outputs": [
    {
     "name": "stdout",
     "output_type": "stream",
     "text": [
      "Dot product of two vectors:\n",
      " 2.755455484083356\n"
     ]
    }
   ],
   "source": [
    "# Task 6\n",
    "vector_7_1 = np.random.rand(7)\n",
    "vector_7_2 = np.random.rand(7)\n",
    "\n",
    "dot_product = np.dot(vector_7_1, vector_7_2)\n",
    "print(\"Dot product of two vectors:\\n\", dot_product)"
   ]
  },
  {
   "cell_type": "code",
   "execution_count": 5,
   "id": "e6a0ed9a-bfb7-4f1f-a3f5-3818a8e155e6",
   "metadata": {},
   "outputs": [
    {
     "name": "stdout",
     "output_type": "stream",
     "text": [
      "Product of 2x2 and 2x3 matrices:\n",
      " [[45 16 36]\n",
      " [61 58 66]]\n"
     ]
    }
   ],
   "source": [
    "import numpy as np\n",
    "# Task 7\n",
    "matrix_2x2 = np.random.randint(1, 11, size=(2, 2))\n",
    "matrix_2x3 = np.random.randint(1, 11, size=(2, 3))\n",
    "\n",
    "\n",
    "product = np.dot(matrix_2x2, matrix_2x3)\n",
    "print(\"Product of 2x2 and 2x3 matrices:\\n\", product)"
   ]
  },
  {
   "cell_type": "code",
   "execution_count": 7,
   "id": "df09d85e-859d-4310-9ed0-9ac9d02f5854",
   "metadata": {},
   "outputs": [
    {
     "name": "stdout",
     "output_type": "stream",
     "text": [
      "3x3 matrix:\n",
      " [[4 4 9]\n",
      " [9 7 2]\n",
      " [9 4 3]]\n",
      "Inverse of the 3x3 matrix:\n",
      " [[-0.05726872 -0.10572687  0.24229075]\n",
      " [ 0.03964758  0.30396476 -0.3215859 ]\n",
      " [ 0.11894273 -0.08810573  0.03524229]]\n"
     ]
    }
   ],
   "source": [
    "# Task 8\n",
    "matrix_3x3 = np.random.randint(1, 11, size =(3, 3))\n",
    "inverse = np.linalg.inv(matrix_3x3)\n",
    "print(\"3x3 matrix:\\n\", matrix_3x3)\n",
    "print(\"Inverse of the 3x3 matrix:\\n\", inverse)"
   ]
  },
  {
   "cell_type": "code",
   "execution_count": 9,
   "id": "69a71de9-0d7b-4ff8-8221-2b9f216bd537",
   "metadata": {},
   "outputs": [
    {
     "name": "stdout",
     "output_type": "stream",
     "text": [
      "4x4 matrix:\n",
      " [[0.73033159 0.52958794 0.45911231 0.55744929]\n",
      " [0.2315788  0.28454973 0.3357443  0.21898473]\n",
      " [0.40454443 0.05825236 0.54196918 0.85073792]\n",
      " [0.75814257 0.59662043 0.10472092 0.24195631]]\n",
      "Transpose of the 4x4 matrix:\n",
      " [[0.73033159 0.2315788  0.40454443 0.75814257]\n",
      " [0.52958794 0.28454973 0.05825236 0.59662043]\n",
      " [0.45911231 0.3357443  0.54196918 0.10472092]\n",
      " [0.55744929 0.21898473 0.85073792 0.24195631]]\n"
     ]
    }
   ],
   "source": [
    "# Task 9\n",
    "matrix_4x4 = np.random.rand(4, 4)\n",
    "transpose = np.transpose(matrix_4x4)\n",
    "print(\"4x4 matrix:\\n\", matrix_4x4)\n",
    "print(\"Transpose of the 4x4 matrix:\\n\", transpose)"
   ]
  },
  {
   "cell_type": "code",
   "execution_count": 10,
   "id": "ea0ad263-4b7a-460c-9f03-10bd0f03f52d",
   "metadata": {},
   "outputs": [
    {
     "name": "stdout",
     "output_type": "stream",
     "text": [
      "3x4 matrix:\n",
      " [[ 6  6  9  1]\n",
      " [ 4  9  3 10]\n",
      " [ 4  9  8  2]]\n",
      "4-element vector:\n",
      " [ 4  9  4 10]\n",
      "product of matrix and vector:\n",
      " [124 209 149]\n"
     ]
    }
   ],
   "source": [
    "# Task 10\n",
    "matrix_3x4 = np.random.randint(1, 11, size=(3, 4))\n",
    "vector_4 = np.random.randint(1, 11, size=4)\n",
    "\n",
    "result = np.dot(matrix_3x4, vector_4)\n",
    "print(\"3x4 matrix:\\n\", matrix_3x4)\n",
    "print(\"4-element vector:\\n\", vector_4)\n",
    "print(\"product of matrix and vector:\\n\", result)"
   ]
  },
  {
   "cell_type": "code",
   "execution_count": 14,
   "id": "0e63fba7-b6a3-4021-84a7-e3299832aa33",
   "metadata": {},
   "outputs": [
    {
     "name": "stdout",
     "output_type": "stream",
     "text": [
      "2x3 matrix:\n",
      " [[0.58565479 0.97826303 0.93982504]\n",
      " [0.95163763 0.57732818 0.16834466]]\n",
      "3-element vector:\n",
      " [0.9823963  0.80281496 0.80922819]\n",
      "Product of matrix and vector:\n",
      " [2.12124221 1.53460222]\n"
     ]
    }
   ],
   "source": [
    "# Task 11\n",
    "matrix_2x3 = np.random.rand(2, 3)\n",
    "vector_3 = np.random.rand(3)\n",
    "\n",
    "result = np.dot(matrix_2x3, vector_3)\n",
    "print(\"2x3 matrix:\\n\", matrix_2x3)\n",
    "print(\"3-element vector:\\n\", vector_3)\n",
    "print(\"Product of matrix and vector:\\n\", result)"
   ]
  },
  {
   "cell_type": "code",
   "execution_count": 18,
   "id": "6e42ade1-ca3a-446c-83be-64fa7944209d",
   "metadata": {},
   "outputs": [
    {
     "name": "stdout",
     "output_type": "stream",
     "text": [
      "First 2x2 matrix:\n",
      " [[ 7  7]\n",
      " [ 8 10]]\n",
      "Second 2x2 matrix:\n",
      " [[3 9]\n",
      " [6 7]]\n",
      "Element-wice product (Hadamard product):\n",
      " [[21 63]\n",
      " [48 70]]\n"
     ]
    }
   ],
   "source": [
    "# Task 12\n",
    "matrix_2x2_a = np.random.randint(1, 11, size=(2, 2))\n",
    "matrix_2x2_b = np.random.randint(1, 11, size=(2, 2))\n",
    "hadamard_product = np.multiply(matrix_2x2_a, matrix_2x2_b)\n",
    "print(\"First 2x2 matrix:\\n\", matrix_2x2_a)\n",
    "print(\"Second 2x2 matrix:\\n\", matrix_2x2_b)\n",
    "print(\"Element-wice product (Hadamard product):\\n\", hadamard_product)"
   ]
  },
  {
   "cell_type": "code",
   "execution_count": 20,
   "id": "3930065f-3cde-4a39-9392-7b8fe6afaeba",
   "metadata": {},
   "outputs": [
    {
     "name": "stdout",
     "output_type": "stream",
     "text": [
      "First 2x2 matrix:\n",
      " [[10  2]\n",
      " [10  2]]\n",
      "Second 2x2 matrix:\n",
      " [[10  2]\n",
      " [ 2  2]]\n",
      "Matrix product:\n",
      " [[104  24]\n",
      " [104  24]]\n"
     ]
    }
   ],
   "source": [
    "# Task 13\n",
    "matrix_2x2_a = np.random.randint(1, 11, size=(2, 2))\n",
    "matrix_2x2_b = np.random.randint(1, 11, size=(2, 2))\n",
    "\n",
    "matrix_product = np.dot(matrix_2x2_a, matrix_2x2_b)\n",
    "print(\"First 2x2 matrix:\\n\", matrix_2x2_a)\n",
    "print(\"Second 2x2 matrix:\\n\", matrix_2x2_b)\n",
    "print(\"Matrix product:\\n\", matrix_product)"
   ]
  },
  {
   "cell_type": "code",
   "execution_count": 21,
   "id": "7561d0c4-eafa-4f71-8917-80f9786d0924",
   "metadata": {},
   "outputs": [
    {
     "name": "stdout",
     "output_type": "stream",
     "text": [
      "5x5 matrix:\n",
      " [[70 25 22 84 32]\n",
      " [61 40 71 96 11]\n",
      " [99 58 27 69  2]\n",
      " [97 32  1 35 78]\n",
      " [71 20 62 75 17]]\n",
      "Sum of all elements:\n",
      " 1255\n"
     ]
    }
   ],
   "source": [
    "# Task 14\n",
    "matrix_5x5 = np.random.randint(1, 101, size=(5, 5))\n",
    "matrix_sum = np.sum(matrix_5x5)\n",
    "print(\"5x5 matrix:\\n\", matrix_5x5)\n",
    "print(\"Sum of all elements:\\n\", matrix_sum)"
   ]
  },
  {
   "cell_type": "code",
   "execution_count": 22,
   "id": "452f6072-7058-4fb3-8d56-89cbb5bd84b3",
   "metadata": {},
   "outputs": [
    {
     "name": "stdout",
     "output_type": "stream",
     "text": [
      "First 4x4 matrix:\n",
      " [[ 6  3  1  6]\n",
      " [10  9  6  8]\n",
      " [10  9  6  6]\n",
      " [ 9 10  3  8]]\n",
      "Second 4x4 matrix:\n",
      " [[ 1 10  2  5]\n",
      " [ 3  3  1  6]\n",
      " [ 7  9  7  6]\n",
      " [10  7  6  9]]\n",
      "Difference of matrices:\n",
      " [[ 5 -7 -1  1]\n",
      " [ 7  6  5  2]\n",
      " [ 3  0 -1  0]\n",
      " [-1  3 -3 -1]]\n"
     ]
    }
   ],
   "source": [
    "# Task 15\n",
    "matrix_4x4_a = np.random.randint(1, 11, size=(4, 4))\n",
    "matrix_4x4_b = np.random.randint(1, 11, size=(4, 4))\n",
    "\n",
    "difference = matrix_4x4_a - matrix_4x4_b\n",
    "print(\"First 4x4 matrix:\\n\", matrix_4x4_a)\n",
    "print(\"Second 4x4 matrix:\\n\", matrix_4x4_b)\n",
    "print(\"Difference of matrices:\\n\", difference)\n"
   ]
  },
  {
   "cell_type": "code",
   "execution_count": 23,
   "id": "0f70fdf0-f595-4bdf-9a4b-8cd89d4a8709",
   "metadata": {},
   "outputs": [
    {
     "name": "stdout",
     "output_type": "stream",
     "text": [
      "3x3 matrix:\n",
      " [[0.85123786 0.56608477 0.46485261]\n",
      " [0.48985634 0.21795403 0.31350675]\n",
      " [0.03947974 0.82858465 0.93396934]]\n",
      "Column vector of row sums:\n",
      " [[1.88217524]\n",
      " [1.02131712]\n",
      " [1.80203373]]\n"
     ]
    }
   ],
   "source": [
    "# Task 16 \n",
    "matrix_3x3 = np.random.rand(3, 3)\n",
    "row_sums = np.sum(matrix_3x3, axis=1).reshape(-1, 1)\n",
    "print(\"3x3 matrix:\\n\", matrix_3x3)\n",
    "print(\"Column vector of row sums:\\n\", row_sums)"
   ]
  },
  {
   "cell_type": "code",
   "execution_count": 25,
   "id": "8f27c8c2-f5fd-4610-b851-9b1edadc1cf9",
   "metadata": {},
   "outputs": [
    {
     "name": "stdout",
     "output_type": "stream",
     "text": [
      "3x4 matrix:\n",
      " [[ 3  9  3  1]\n",
      " [10  7  5  5]\n",
      " [ 3  8  5  9]]\n",
      "Matrix with squares of the elements:\n",
      " [[  9  81   9   1]\n",
      " [100  49  25  25]\n",
      " [  9  64  25  81]]\n"
     ]
    }
   ],
   "source": [
    "# Task 17\n",
    "matrix_3x4 = np.random.randint(1, 11, size=(3, 4))\n",
    "squared_matrix = np.square(matrix_3x4)\n",
    "print(\"3x4 matrix:\\n\", matrix_3x4)\n",
    "print(\"Matrix with squares of the elements:\\n\", squared_matrix)"
   ]
  },
  {
   "cell_type": "code",
   "execution_count": null,
   "id": "73fc24ba-1b69-47b1-8f1d-d53c188ab123",
   "metadata": {},
   "outputs": [],
   "source": []
  }
 ],
 "metadata": {
  "kernelspec": {
   "display_name": "Python 3 (ipykernel)",
   "language": "python",
   "name": "python3"
  },
  "language_info": {
   "codemirror_mode": {
    "name": "ipython",
    "version": 3
   },
   "file_extension": ".py",
   "mimetype": "text/x-python",
   "name": "python",
   "nbconvert_exporter": "python",
   "pygments_lexer": "ipython3",
   "version": "3.11.7"
  }
 },
 "nbformat": 4,
 "nbformat_minor": 5
}
